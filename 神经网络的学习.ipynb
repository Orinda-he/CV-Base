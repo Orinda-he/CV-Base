{
 "cells": [
  {
   "cell_type": "markdown",
   "metadata": {},
   "source": [
    "神经网络的学习：从训练数据中自动获取最优权重参数的过程。\n",
    "\n",
    "倒入损失函数这一指标，学习的目的就是以这个指标为基准，找出能使他的值达到最小的权重参数。\n",
    "\n",
    "为了找出近可能小的损失函数的值，将利用函数斜率的梯度法。\n",
    "\n",
    "神经网络的特征：可以从数据中学习，由数据自动决定权重参数的值。\n",
    "\n",
    "数据是机器学习的核心，数据驱动机器学习的执行过程。\n",
    "\n",
    "训练数据（监督数据）和测试数据\n",
    "原因是：\n",
    "    1、模型的泛化能力：指模型在未见过的数据上的表现能力。获得泛化能力是机器学习的最终目标\n",
    "    2、模型的过拟合：指模型在训练数据上表现很好，但是在未见过的数据上表现很差的情况。避免过拟合也是机器学习的重要课题。\n",
    "    3、模型的欠拟合：指模型在训练数据上表现很差的情况。\n",
    "\n",
    "1、使用训练数据进行学习，寻找最优权重参数。\n",
    "\n",
    "2、使用测试数据评价训练得到模型的实际能力，评价指标是损失函数的值。\n",
    "\n",
    "3、评价指标：\n",
    "\n",
    " 损失函数：表示神经网络性能的“恶劣程度”，即当前的神经网络权重参数对于真实值的“距离”。\n",
    "         \n",
    "         即当前神经网络对监督数据在多大程度上的不拟合，多大程度上不一致，\n",
    "         \n",
    "         损失函数的值越小，说明当前神经网络对监督数据的拟合程度越好。\n",
    "\n",
    "    1）均方误差：是指神经网络输出的结果与监督数据的差的平方的总和的平均值。\n",
    "    2）交叉熵误差：是指神经网络输出的结果与监督数据的差的总和的平均值。\n",
    " 均方误差和交叉熵误差都是损失函数，均方误差适用于连续数值的输出，交叉熵误差适用于离散的类别型数据。   "
   ]
  },
  {
   "cell_type": "markdown",
   "metadata": {},
   "source": [
    "均方误差公式：\n",
    "$$\n",
    "E = \\frac{1}{2}\\sum_k(y_k - t_k)^2\n",
    "$$\n",
    "\n",
    "- 除以2的变体 ：\n",
    "这样做的目的是使梯度计算时消除常数2，简化求导过程\n",
    "- 实际应用中的选择 ：\n",
    "\n",
    "- 两种方法在本质上没有区别，只是常数因子的差异\n",
    "- 大多数深度学习框架默认使用标准公式（除以n）\n",
    "- 如果您看到除以2的实现，通常是出于数学推导的便利"
   ]
  },
  {
   "cell_type": "markdown",
   "metadata": {},
   "source": [
    "yk表示神经网络的输出，tk表示监督数据，k表示数据的维度\n"
   ]
  },
  {
   "cell_type": "markdown",
   "metadata": {},
   "source": [
    "在数学计算中按道理均方误差公式为：\n",
    "$$\n",
    "E = \\frac{1}{n}\\sum_k(y_k - t_k)^2\n",
    "$$\n",
    "\n",
    "n为数据的个数\n",
    "标准MSE公式"
   ]
  },
  {
   "cell_type": "markdown",
   "metadata": {},
   "source": [
    "y=[0.1,0.05,0.6,0.0,0.05,0.1,0.1,0.1,0.0,0.0]\n",
    "\n",
    "t=[0,0,1,0,0,0,0,0,0,0]   #one-hot表示\n",
    " \n",
    " 数组元素的索引从第一个开始对应数字0，1，2....9，这里神经网络的输出y是softmax函数的输\n",
    " 出，其中的数值可以理解为概率。t是监督数据，是正确解标签对应的数组，正确解标签是2，所以t\n",
    " [2]是1，其他都是0。\n",
    "\n"
   ]
  },
  {
   "cell_type": "markdown",
   "metadata": {},
   "source": [
    "![image.png](learn-images/mse.png)"
   ]
  },
  {
   "cell_type": "code",
   "execution_count": 5,
   "metadata": {},
   "outputs": [
    {
     "name": "stdout",
     "output_type": "stream",
     "text": [
      "0.09750000000000003\n",
      "0.5975\n"
     ]
    }
   ],
   "source": [
    "import numpy as np\n",
    "def mean_squared_error(y,t):\n",
    "    return 0.5*np.sum((y-t)**2)\n",
    "\n",
    "#设2为正确解\n",
    "t=[0,0,1,0,0,0,0,0,0,0]   #one-hot表示\n",
    "\n",
    "#例1:“2”的概率最高的情况（0.6）\n",
    "y=[0.1,0.05,0.6,0.0,0.05,0.1,0.0,0.1,0.0,0.0]\n",
    "print(mean_squared_error(np.array(y),np.array(t)))\n",
    "\n",
    "#例2:“2”的概率的情况（0.1）\n",
    "y=[0.1,0.05,0.1,0.0,0.05,0.1,0.0,0.6,0.0,0.0]\n",
    "print(mean_squared_error(np.array(y),np.array(t)))\n"
   ]
  },
  {
   "cell_type": "markdown",
   "metadata": {},
   "source": [
    "以上代码举了2个例子，第一个例子中，正确解是“2”，神经网络的输出最大值是“2”；\n",
    "\n",
    "第二个例子中，正确解是“2”，神经网络的输出最大值是“7”。\n",
    "\n",
    "发现第一个例子的损失函数值更小，和监督数据之间的误差更小，也就是说第一个例子的输出结果和监督数据更加吻合。"
   ]
  },
  {
   "cell_type": "markdown",
   "metadata": {},
   "source": [
    "交叉熵误差公式：\n",
    "$$\n",
    "E = - \\sum_k t_k \\log y_k\n",
    "$$\n",
    "yk 是神经网络的输出，tk是正确解标签，k是数据维度。并且tk只有正确解标签索引为1，其他均为0（one-hot表示）\n",
    "\n",
    "实际上只计算对应正确解标签的输出的自然对数，如假设正确解标签索引为2，与之对应的神经网络输出是0.6，则交叉熵误差为\n",
    "$$\n",
    "E = - \\log 0.6 = 0.51\n",
    "$$\n",
    "\n",
    "正确解标签索引为2，对应的神经网络输出是0.1，则交叉熵误差为\n",
    "$$\n",
    "E = - \\log 0.1 = 2.3\n",
    "$$\n",
    "\n",
    "也就是说，交叉熵误差的值由正确标签对应的输出结果决定。\n",
    "\n"
   ]
  },
  {
   "cell_type": "code",
   "execution_count": 6,
   "metadata": {},
   "outputs": [
    {
     "name": "stdout",
     "output_type": "stream",
     "text": [
      "0.510825457099338\n",
      "2.302584092994546\n"
     ]
    }
   ],
   "source": [
    "def cross_entropy_error(y,t):\n",
    "    delta=1e-7 # 一个微小值，防止出现log0的情况导致负无限大\n",
    "    return -np.sum(t*np.log(y+delta))\n",
    "\n",
    "#设2为正确解\n",
    "t=[0,0,1,0,0,0,0,0,0,0]   #one-hot表示\n",
    "\n",
    "#例1:“2”为正解标签对应输出（0.6）\n",
    "y=[0.1,0.05,0.6,0.0,0.05,0.1,0.0,0.1,0.0,0.0]\n",
    "print(cross_entropy_error(np.array(y),np.array(t)))\n",
    "\n",
    "#例2:“2”为正解标签对应输出 (0.1)\n",
    "y=[0.1,0.05,0.1,0.0,0.05,0.1,0.0,0.6,0.0,0.0]\n",
    "print(cross_entropy_error(np.array(y),np.array(t)))"
   ]
  },
  {
   "cell_type": "markdown",
   "metadata": {},
   "source": [
    "mini-batch学习\n",
    "\n",
    "机器学习使用训练数据进行学习。也就是说针对训练数据计算损失函数的值，找出使该值尽可能小的参数。因此，计算损失函数必须将所有训练数据作为对象，就是说，训练数据有100个的话，要把这100个损失函数的总和作为学习的目标。\n",
    "\n",
    "前面介绍的例子是针对单个数据的损失函数。如果要求所有训练数据的损失函数的总和作为学习的目标，该如何进行呢？\n",
    "\n",
    "比如，有10000个训练数据，从10000个数据中随机选择100个数据，这100个数据称为mini-batch，mini-batch的损失函数就被作为学习的目标。\n",
    "\n",
    "以交叉熵误差为例，mini-batch的损失函数如下式所示。"
   ]
  },
  {
   "cell_type": "markdown",
   "metadata": {},
   "source": [
    "以交叉熵误差为例，mini-batch的损失函数如下式所示：\n",
    "    $$\n",
    "    E = - \\frac{1}{N} \\sum_{n \\in N} \\sum_{k \\in K} t_k^{(n)} \\log y_k^{(n)}\n",
    "    $$"
   ]
  },
  {
   "cell_type": "markdown",
   "metadata": {},
   "source": [
    "假设mini-batch 一次性计算3张图片，3张图片经过神经网络的输出为（3个分类）：\n",
    "y1=[0.1,0.5,0.4]\n",
    "y2=[0.3,0.1,0.6]\n",
    "y3=[0.2,0.7,0.1]\n",
    "\n",
    "#完全正解\n",
    "y1=[0.1,0.4,0.5]\n",
    "y2=[0.3,0.6,0.1]\n",
    "y3=[0.2,0.1,0.7]    \n",
    "\n",
    "假设mini-batch的正确解标签为：\n",
    "t1=[0,0,1]\n",
    "t2=[0,1,0]\n",
    "t3=[0,0,1]\n",
    "\n",
    "\n"
   ]
  },
  {
   "cell_type": "markdown",
   "metadata": {},
   "source": [
    "- 批量计算步骤 （针对3张图片）：\n",
    "\n",
    "    -  对每张图片计算交叉熵 -单个样本的交叉熵公式进行计算\n",
    "    -  对所有图片的交叉熵求平均\n",
    "\n",
    "具体计算过程 ：\n",
    "\n",
    "第一张图片(y1, t1) ：\n",
    "L1 = -(0 log(0.1) + 0 log(0.5) + 1*log(0.5)) = -log(0.5) ≈ 0.916\n",
    "\n",
    "第二张图片(y2, t2) ：\n",
    "L2 = -(0 log(0.3) + 1 log(0.1) + 0*log(0.6)) = -log(0.1) ≈ 2.303\n",
    "\n",
    "第三张图片(y3, t3) ：\n",
    "L3 = -(0 log(0.2) + 0 log(0.7) + 1*log(0.1)) = -log(0.6) ≈ 2.303\n",
    "\n",
    "Calculate the average cross-entropy loss:\n",
    "(0.916 + 2.303 + 2.303) / 3 ≈ 1.841\n",
    "\n"
   ]
  },
  {
   "cell_type": "markdown",
   "metadata": {},
   "source": [
    "把单个数据的损失函数扩大到了N份，最后还要除以N进行正规化，求单个数据的“平均损失函数”，可以获得和训练数据数量无关的统一指标。"
   ]
  },
  {
   "cell_type": "code",
   "execution_count": 25,
   "metadata": {},
   "outputs": [
    {
     "name": "stdout",
     "output_type": "stream",
     "text": [
      "1.8404862226210927\n",
      "0.5945969133517081\n"
     ]
    }
   ],
   "source": [
    "#监督数据形式为one-hot\n",
    "def cross_entropy_error(y, t):\n",
    "    if y.ndim == 1:\n",
    "        t = t.reshape(1, t.size)\n",
    "        y = y.reshape(1, y.size)\n",
    "    batch_size = y.shape[0]\n",
    "    return -np.sum(t * np.log(y + 1e-7)) / batch_size\n",
    "\n",
    "t=np.array([[0,0,1],[0,1,0],[0,0,1]])\n",
    "\n",
    "y1=np.array([[0.1,0.5,0.4],[0.3,0.1,0.6],[0.2,0.7,0.1]])\n",
    "y2=np.array([[0.5,0.1,0.4],[0.3,0.6,0.1],[0.2,0.1,0.7]])\n",
    "\n",
    "print(cross_entropy_error(y1,t))\n",
    "print(cross_entropy_error(y2,t))\n",
    "\n",
    "\n"
   ]
  },
  {
   "cell_type": "markdown",
   "metadata": {},
   "source": [
    "np.log(y[np.arange(batch_size), t]) 这行代码使用了NumPy的高级索引技术，其工作原理如下：\n",
    "抽出各个数据的正确解标签对应的神经网络的输出\n",
    "\n",
    "1. 索引结构 ：\n",
    "   \n",
    "   - np.arange(batch_size) 生成一个从0到batch_size-1的数组，如[0,1,2,...,batch_size-1]\n",
    "   - t 是包含每个样本正确类别索引的数组\n",
    "2. 索引过程 ：\n",
    "   \n",
    "   - 假设 batch_size=3 , t=[2,1,0]\n",
    "   - y[np.arange(3), [2,1,0]] 相当于同时执行：\n",
    "     - y[0,2] (第一个样本的第3个类别概率)\n",
    "     - y[1,1] (第二个样本的第2个类别概率)\n",
    "     - y[2,0] (第三个样本的第1个类别概率)\n",
    "3. 数学意义 ：\n",
    "   \n",
    "   - 这实现了对每个样本取其正确类别对应的预测概率\n",
    "   - 然后对这些概率值取对数，用于交叉熵计算"
   ]
  },
  {
   "cell_type": "code",
   "execution_count": 40,
   "metadata": {},
   "outputs": [
    {
     "name": "stdout",
     "output_type": "stream",
     "text": [
      "Selected probabilities: [0.7 0.4 0.5]\n",
      "Log probabilities: [-0.35667494 -0.91629073 -0.69314718]\n"
     ]
    }
   ],
   "source": [
    "import numpy as np\n",
    "\n",
    "# 假设有3个样本，每个样本有3个类别的预测概率\n",
    "y = np.array([\n",
    "    [0.1, 0.2, 0.7],  # 样本1\n",
    "    [0.3, 0.4, 0.3],  # 样本2\n",
    "    [0.5, 0.1, 0.4]   # 样本3\n",
    "])\n",
    "\n",
    "# 每个样本的正确类别索引\n",
    "t = np.array([2, 1, 0])  # 样本1的正确类别是2，样本2是1，样本3是0\n",
    "\n",
    "# 高级索引操作\n",
    "selected_probs = y[np.arange(3), t]  # 结果为 [0.7, 0.4, 0.5]\n",
    "log_probs = np.log(selected_probs)  # 对正确类别的概率取对数\n",
    "\n",
    "print(\"Selected probabilities:\", selected_probs)\n",
    "print(\"Log probabilities:\", log_probs)"
   ]
  },
  {
   "cell_type": "code",
   "execution_count": 39,
   "metadata": {},
   "outputs": [
    {
     "name": "stdout",
     "output_type": "stream",
     "text": [
      "[0.1 0.5 0.4]\n",
      "y[0,0]=0.1\n",
      "y[0,1]=0.5\n",
      "y[0,2]=0.4\n",
      "[0.3 0.1 0.6]\n",
      "y[1,0]=0.3\n",
      "y[1,1]=0.1\n",
      "y[1,2]=0.6\n",
      "[0.2 0.7 0.1]\n",
      "y[2,0]=0.2\n",
      "y[2,1]=0.7\n",
      "y[2,2]=0.1\n",
      "2.302584092994546\n",
      "[0.5 0.1 0.4]\n",
      "y[0,0]=0.5\n",
      "y[0,1]=0.1\n",
      "y[0,2]=0.4\n",
      "[0.3 0.6 0.1]\n",
      "y[1,0]=0.3\n",
      "y[1,1]=0.6\n",
      "y[1,2]=0.1\n",
      "[0.2 0.1 0.7]\n",
      "y[2,0]=0.2\n",
      "y[2,1]=0.1\n",
      "y[2,2]=0.7\n",
      "0.5202157462469678\n"
     ]
    }
   ],
   "source": [
    "#监督数据为标签形式\n",
    "def cross_entropy_error(y, t):\n",
    "    if y.ndim == 1:\n",
    "        t = t.reshape(1, t.size)\n",
    "        y = y.reshape(1, y.size)\n",
    "    batch_size = y.shape[0]\n",
    "    \n",
    "    #print(y[np.arange(batch_size), t])\n",
    "    for i in range(len(y)):\n",
    "        print(y[i])\n",
    "        for j in range(len(y[i])):\n",
    "            print(\"y[{},{}]={}\".format(i,j,y[i][j]))\n",
    "    return -np.sum(np.log(y[np.arange(batch_size), t] + 1e-7)) / batch_size\n",
    "#假设batch_size为3,输出3个类别的数据标签为[2,7,9]\n",
    "t=np.array([0,1,2])  #标签索引\n",
    "\n",
    "y1=np.array([[0.1,0.5,0.4],[0.3,0.1,0.6],[0.2,0.7,0.1]])\n",
    "y2=np.array([[0.5,0.1,0.4],[0.3,0.6,0.1],[0.2,0.1,0.7]])\n",
    "\n",
    "y=[y1,y2]\n",
    "for i in range(len(y)):\n",
    "    print(cross_entropy_error(y[i],t))\n",
    "     \n",
    "    "
   ]
  },
  {
   "cell_type": "markdown",
   "metadata": {},
   "source": [
    "倒入损失函数的目的：在神经网络的学习中，寻找最优参数（权重和偏置）时，要寻找使损失函数的值尽可能小的参数，这就需要寻找参数的导数（确切的讲是梯度），然后以这个导数为指引，逐步更新参数的值。\n",
    "\n",
    "在神经网络的学习时，不能将识别精度做指标，因为如果以识别精度为指标，则参数的导数在绝大多数地方都会变为0.\n",
    "\n",
    "识别精度对微小的参数变化基本上没什么反应，即使有反应，它的值也是不连续的，突然的变化，而如果把损失函数作为指标，稍微改变一下参数的值，对应的损失函数会发生微小的，连续性的变化。\n",
    "\n",
    "sigmoid函数不仅函数输出值是连续变化的，曲线的斜率（导数）也是连续变化的，也就是说，sigmoid函数的导数在任何地方都不为0.这对神经网络的学习非常重要。得益于斜率不为0 的性质，神经网络的学习得以正确的进行。"
   ]
  },
  {
   "cell_type": "markdown",
   "metadata": {},
   "source": [
    "数值微分\n",
    "\n",
    "梯度法使用梯度的信息决定前进的方向\n",
    "\n",
    "1、导数\n",
    "\n",
    "导数：函数f(x)在x点的导数表示为f'(x)，导数是函数f(x)在x点的变化率，导数的定义如下：\n",
    "x的微小变化将导致函数f(x)的值在多大程度上的变化，其中，h表示微小变化的距离，h无限趋近于0.\n",
    "\n",
    "$$\n",
    "f'(x) = \\lim_{h \\to 0} \\frac{f(x+h) - f(x)}{h}\n",
    "$$  "
   ]
  },
  {
   "cell_type": "code",
   "execution_count": null,
   "metadata": {},
   "outputs": [],
   "source": [
    "#不好的实现实例\n",
    "def numerical_diff(f,x):  #数值微分英文：numerical differentiation\n",
    "    h=10e-50\n",
    "    return (f(x+h)-f(x))/h\n"
   ]
  },
  {
   "cell_type": "markdown",
   "metadata": {},
   "source": [
    "以上代码有2处需要改进的地方\n",
    "\n",
    "1、因为想把尽可能小的值赋值给h，所以这里用h=10e-50这个微小值，但是这样反而产生了舍入误差，所谓舍入误差，是指因省略小数的精细部分数值（比如小数点后第8位以后的数值）而造成最终计算结果上的误差。\n",
    "\n",
    "    np.float32(1e-50)  #np.float32(0.0)\n",
    "\n",
    "    如果用float32(32位浮点数)来表示1e-50，就会变成0.0，无法正确表示出来。也就是说使用过小的值会造成计算机出现计算上的问题，h改成10的-4次方就可以得到正确的结果。\n",
    "\n",
    "\n",
    "2、“真的导数”对应函数在x处的斜率（切线），上述公式中计算的是（x+h）和(x)之间的斜率，因此真的导数和上述实现得到的导数的值严格意义上并不一致，这个差异的出现是因为h不可能无限接近0.\n",
    "\n",
    "    为了减小这个误差，可以计算f在（x+h）和 （x-h）之间的差分\n",
    "    \n",
    "$$\n",
    "f'(x) = \\lim_{h \\to 0} \\frac{f(x+h) - f(x-h)}{2h}\n",
    "$$  \n",
    "    "
   ]
  },
  {
   "cell_type": "code",
   "execution_count": 48,
   "metadata": {},
   "outputs": [
    {
     "name": "stdout",
     "output_type": "stream",
     "text": [
      "0.1999999999990898\n",
      "0.2999999999986347\n"
     ]
    },
    {
     "data": {
      "image/png": "[encoded data removed]",
      "text/plain": [
       "<Figure size 640x480 with 1 Axes>"
      ]
     },
     "metadata": {},
     "output_type": "display_data"
    }
   ],
   "source": [
    "# coding: utf-8\n",
    "import numpy as np\n",
    "import matplotlib.pylab as plt\n",
    "\n",
    "\n",
    "def numerical_diff(f, x):\n",
    "    h = 1e-4 # 0.0001\n",
    "    return (f(x+h) - f(x-h)) / (2*h)\n",
    "\n",
    "\n",
    "def function_1(x):\n",
    "    return 0.01*x**2 + 0.1*x \n",
    "\n",
    "\n",
    "def tangent_line(f, x):\n",
    "    d = numerical_diff(f, x)\n",
    "    print(d)\n",
    "    y = f(x) - d*x\n",
    "    return lambda t: d*t + y\n",
    "     \n",
    "x = np.arange(0.0, 20.0, 0.1)\n",
    "y = function_1(x)\n",
    "plt.xlabel(\"x\")\n",
    "plt.ylabel(\"f(x)\")\n",
    "\n",
    "tf1 = tangent_line(function_1, 5)\n",
    "tf2 = tangent_line(function_1, 10)\n",
    "\n",
    "y1 = tf1(x)\n",
    "y2 = tf2(x)\n",
    "\n",
    "plt.plot(x, y)\n",
    "plt.plot(x, y1)\n",
    "plt.plot(x, y2)\n",
    "\n",
    "plt.show()\n"
   ]
  },
  {
   "cell_type": "markdown",
   "metadata": {},
   "source": [
    "2、偏导数\n",
    "f(x0,x1) = x0**2 + x1**2  \n",
    "有2个变量，有多个变量的函数的导数称为偏导数，用数学表达式为：   \n",
    "\n",
    "\n",
    "\n",
    "    \n"
   ]
  },
  {
   "cell_type": "code",
   "execution_count": null,
   "metadata": {},
   "outputs": [],
   "source": []
  },
  {
   "cell_type": "markdown",
   "metadata": {},
   "source": [
    "3、梯度\n",
    "\n",
    "梯度：函数f(x,y)在点(x0,y0)处的梯度表示为(∇f)(x0,y0)，梯度是一个向量，它的方向是函数f(x,y)在点(x0,y0)处的最快上升方向，梯度的定义如下： \n",
    "\n",
    "$$\n",
    "(∇f)(x0,y0) = \\lim_{h \\to 0} \\frac{1}{h} \\begin{pmatrix}\n",
    "f(x0+h,y0) - f(x0,y0) \\\\\n",
    "f(x0,y0+h) - f(x0,y0)\n",
    "\\end{pmatrix}\n",
    "$$  \n",
    "\n",
    "\n"
   ]
  },
  {
   "cell_type": "markdown",
   "metadata": {},
   "source": [
    "4、梯度的性质\n",
    "\n",
    "梯度的性质：\n",
    "\n",
    "- 梯度的方向是函数值上升最快的方向\n",
    "- 梯度的大小表示函数值上升最快的速度\n",
    "\n",
    "5、梯度法\n",
    "\n",
    "梯度法：梯度法是一种常用的寻找函数最小值的方法，它的原理是：在函数f(x,y)的点(x0,y0)处，沿着梯度的反方向，即函数值下降最快的方向，移动一定的距离，得到新的点(x1,y1)，然后在新的点(x1,y1)处，沿着梯度的反方向移动一定的距离，得到新的点(x2,y2)，以此类推，直到函数值的变化量小于一定的阈值，或者达到了最大的迭代次数，就停止迭代，得到最小值的点。    \n",
    "\n",
    "梯度法的步骤：\n",
    "\n",
    "1、初始化：随机选择一个初始点(x0,y0)\n",
    "2、计算梯度：计算函数f(x,y)在点(x0,y0)处的梯度(∇f)(x0,y0)\n",
    "3、更新参数：将(x0,y0)沿着梯度的反方向移动一定的距离，得到新的点(x1,y1)\n",
    "4、判断终止条件：如果函数值的变化量小于一定的阈值，或者达到了最大的迭代次数，就停止迭代，得到最小值的点；否则，回到第2步，继续迭代。"
   ]
  }
 ],
 "metadata": {
  "kernelspec": {
   "display_name": "Python 3",
   "language": "python",
   "name": "python3"
  },
  "language_info": {
   "codemirror_mode": {
    "name": "ipython",
    "version": 3
   },
   "file_extension": ".py",
   "mimetype": "text/x-python",
   "name": "python",
   "nbconvert_exporter": "python",
   "pygments_lexer": "ipython3",
   "version": "3.9.13"
  }
 },
 "nbformat": 4,
 "nbformat_minor": 2
}
