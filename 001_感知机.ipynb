{
 "cells": [
  {
   "cell_type": "markdown",
   "metadata": {},
   "source": [
    "1、感知机是什么？\n",
    "\n",
    "    感知机接收多个输入信号，输出一个信号。\n",
    "\n",
    "    感知机的信号只有“流/不流”（1/0）两种取值。\n",
    "\n",
    "    感知机的运行原理：\n",
    "\n",
    "        当输入信号的加权总和超过了某个设定的阈值时，输出1；\n",
    "        \n",
    "        当输入信号的加权总和小于或等于设定的阈值时，输出0。"
   ]
  },
  {
   "cell_type": "markdown",
   "metadata": {},
   "source": [
    "感知机例子：\n",
    "\n",
    "x1,x2是输入信号，y是输出信号，w1,w2,是权重（w是weight的首字母）​。图中的圆圈称为“神经元”或者“节点”​。输入信号被送往神经元时，会被分别乘以固定的权重(x1*w1、x2*w2)。神经元会计算传送过来的信号的总和，只有当这个总和超过了某个界限值时，才会输出1。这也称为“神经元被激活”​。这里将这个界限值称为阈值，用符号theta表示\n",
    "\n",
    "y = {0 (w1x1 + w2x2 <= theta) }\n",
    "  \n",
    "y= { 1 (w1x1 + w2x2 > theta) }\n",
    "\n",
    "![alt text](learn-images/感知机.png)"
   ]
  },
  {
   "cell_type": "markdown",
   "metadata": {},
   "source": [
    "感知机的多个输入信号都有各自固有的权重，这些权重发挥着控制各个信号的重要性的作用。\n",
    "权重越大，对应该权重的信号的重要性就越高。"
   ]
  },
  {
   "cell_type": "markdown",
   "metadata": {},
   "source": [
    "感知机的实现"
   ]
  },
  {
   "cell_type": "code",
   "execution_count": 6,
   "metadata": {},
   "outputs": [
    {
     "name": "stdout",
     "output_type": "stream",
     "text": [
      "0\n",
      "0\n",
      "0\n",
      "1\n"
     ]
    }
   ],
   "source": [
    "def and_gate(x1, x2):  \n",
    "    w1, w2, theta = 0.5, 0.5, 0.7\n",
    "    tmp = x1*w1 + x2*w2\n",
    "    if tmp <= theta:\n",
    "        return 0\n",
    "    elif tmp > theta:\n",
    "        return 1\n",
    "print(and_gate(0, 0)) # 输出0\n",
    "print(and_gate(1, 0)) # 输出0\n",
    "print(and_gate(0, 1)) # 输出0\n",
    "print(and_gate(1, 1)) # 输出1"
   ]
  },
  {
   "cell_type": "markdown",
   "metadata": {},
   "source": [
    "导入权重和偏置，把theta换成-b,表达式为：\n",
    "  \n",
    "  y = {0 (b+ w1x1 + w2x2 <= 0) }\n",
    "  \n",
    "  y= { 1 (b+ w1x1 + w2x2 > 0) }\n",
    "\n",
    "  此时b称为偏置，w1和w2称为权重。"
   ]
  },
  {
   "cell_type": "code",
   "execution_count": null,
   "metadata": {},
   "outputs": [
    {
     "name": "stdout",
     "output_type": "stream",
     "text": [
      "[0.  0.5]\n",
      "-0.19999999999999996\n"
     ]
    }
   ],
   "source": [
    "import numpy as np\n",
    "x=np.array([0,1])\n",
    "w=np.array([0.5,0.5])\n",
    "b=-0.7\n",
    "print(w*x)     #当两个数组元素个数相同时，各个元素相乘\n",
    "print(np.sum(w*x)+b)"
   ]
  },
  {
   "cell_type": "markdown",
   "metadata": {},
   "source": [
    "偏置和权重的作用是不一样的，权重是控制输入的重要性参数，而偏置是调整神经元被激活的容易程度参数。\n",
    "\n",
    "比如，若b为-0.1，则只要输入信号的加权总和超过0.1，神经元就会被激活。但是如果b为-20.0，则输入信号的加权总和必须超过20.0，神经元才会被激活。像这样，偏置的值决定了神经元被激活的容易程度。另外，这里我们w1和w2称为权重，将b称为偏置，但是根据上下文，有时也会将b、w1、w2这些参数统称为权重。"
   ]
  },
  {
   "cell_type": "markdown",
   "metadata": {},
   "source": [
    "2、感知机的局限性\n",
    "\n",
    "    感知机的局限性就在于它只能表示由一条直线分割的空间。弯曲的曲线无法用感知机表示\n"
   ]
  },
  {
   "cell_type": "markdown",
   "metadata": {},
   "source": [
    "3、多层感知机\n",
    "\n",
    "    叠加了多层的感知机称为多层感知机（Multi-layer Perceptron，MLP）。\n",
    "    也就是说通过叠加层，感知机能进行更加灵活的表示。\n",
    "    单层感知机只能表示线性空间。而多层感知机可以表示非线性空间。\n",
    "    "
   ]
  }
 ],
 "metadata": {
  "kernelspec": {
   "display_name": "Python 3",
   "language": "python",
   "name": "python3"
  },
  "language_info": {
   "codemirror_mode": {
    "name": "ipython",
    "version": 3
   },
   "file_extension": ".py",
   "mimetype": "text/x-python",
   "name": "python",
   "nbconvert_exporter": "python",
   "pygments_lexer": "ipython3",
   "version": "3.10.11"
  }
 },
 "nbformat": 4,
 "nbformat_minor": 2
}
