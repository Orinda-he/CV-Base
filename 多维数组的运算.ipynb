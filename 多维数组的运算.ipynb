{
 "cells": [
  {
   "cell_type": "markdown",
   "metadata": {},
   "source": [
    "多维数组就是“数字的集合”，数字排成一列的集合、排成长方形的集合、排成三维状或者（更加一般化的）N维状的集合都称为多维数组。下面我们就用NumPy来生成多维数组，先从前面介绍过的一维数组开始。"
   ]
  },
  {
   "cell_type": "code",
   "execution_count": null,
   "metadata": {},
   "outputs": [
    {
     "name": "stdout",
     "output_type": "stream",
     "text": [
      "[1 2 3]\n",
      "(3,)\n",
      "3\n",
      "8\n",
      "int64\n",
      "1\n"
     ]
    }
   ],
   "source": [
    "import numpy as np\n",
    "a=np.array([1,2,3])\n",
    "print(a)\n",
    "print(a.shape) # 数组的形状 \n",
    "print(a.size) # 数组的元素个数,这里的A.shape的结果是个元组(tuple)。这是因为一维数组的情况下也要返回和多维数组的情况下一致的结果\n",
    "print(a.itemsize) # 数组中每个元素的字节大小\n",
    "print(a.dtype)  # 数组元素的类型\n",
    "print(a.ndim) # 数组的维数"
   ]
  },
  {
   "cell_type": "markdown",
   "metadata": {},
   "source": [
    "二维数组：二维数组也称为矩阵(matrix)"
   ]
  },
  {
   "cell_type": "code",
   "execution_count": null,
   "metadata": {},
   "outputs": [
    {
     "name": "stdout",
     "output_type": "stream",
     "text": [
      "[[1 2 3]\n",
      " [4 5 6]]\n",
      "(2, 3)\n",
      "6\n",
      "8\n",
      "int64\n",
      "2\n"
     ]
    }
   ],
   "source": [
    "import numpy as np\n",
    "b=np.array([[1,2,3],[4,5,6]])\n",
    "print(b)\n",
    "print(b.shape) # 表示第一个维度有2个元素，第二个维度有3个元素，另外，第一个维度对应第0维，第二个维度对应第1维（Python的索引从0开始）\n",
    "print(b.size)\n",
    "print(b.itemsize)\n",
    "print(b.dtype)\n",
    "print(b.ndim)\n"
   ]
  },
  {
   "cell_type": "code",
   "execution_count": 10,
   "metadata": {},
   "outputs": [
    {
     "name": "stdout",
     "output_type": "stream",
     "text": [
      "[[1 2 3]\n",
      " [3 4 5]]\n",
      "[[ 5  6]\n",
      " [ 7  8]\n",
      " [ 9 10]]\n",
      "[[ 46  52]\n",
      " [ 88 100]]\n",
      "[[ 46  52]\n",
      " [ 88 100]]\n"
     ]
    }
   ],
   "source": [
    "#矩阵乘法\n",
    "import numpy as np\n",
    "a=np.array([[1,2,3],[3,4,5]])\n",
    "b=np.array([[5,6],[7,8],[9,10]])\n",
    "print(a)\n",
    "print(b)\n",
    "print(a.dot(b)) # 矩阵乘法\n",
    "print (np.dot(a,b)) # 矩阵乘法\n"
   ]
  }
 ],
 "metadata": {
  "kernelspec": {
   "display_name": "Python 3",
   "language": "python",
   "name": "python3"
  },
  "language_info": {
   "codemirror_mode": {
    "name": "ipython",
    "version": 3
   },
   "file_extension": ".py",
   "mimetype": "text/x-python",
   "name": "python",
   "nbconvert_exporter": "python",
   "pygments_lexer": "ipython3",
   "version": "3.9.13"
  }
 },
 "nbformat": 4,
 "nbformat_minor": 2
}
