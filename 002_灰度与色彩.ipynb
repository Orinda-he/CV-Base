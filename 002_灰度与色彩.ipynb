{
 "cells": [
  {
   "cell_type": "markdown",
   "metadata": {},
   "source": [
    "像素是计算机视觉中的原材料，很多图像处理任务以像素的局部性为基础，在不同尺度下完成图像特征的提取，这些特征，小则为图像细节，大则为图像轮廓。"
   ]
  },
  {
   "cell_type": "markdown",
   "metadata": {},
   "source": [
    "1、灰度图：一种只包含亮度信息的图像，而不包含色彩信息的图像，通常用0（黑色）到255（白色）之间的灰度值来表示每个像素的亮度。\n",
    "    \n",
    "    为什么是0-255？ 一个字节（8 位）11111111可以表示的最大数值是 255。\n",
    "        \n",
    "    任何数据在计算机中都是以数值形式存储的，计算机内部的所有数据最终都以二进制形式（0 和 1）存储，一个字节由 8 个二进制位组成，通常用来存储单个字符或小整数\n",
    "        \n",
    "        - 例子：\n",
    "            - 字符 A 的 ASCII 编码是 01000001，占用一个字节。\n",
    "            - 整数 5 可以存储为一个字节 00000101。"
   ]
  },
  {
   "cell_type": "markdown",
   "metadata": {},
   "source": [
    "表示的数据范围刚好在0-255，像素的灰度级别采用了0-255这个范围可以很好的表示丰富的图像细节。"
   ]
  },
  {
   "cell_type": "markdown",
   "metadata": {},
   "source": [
    "为什么要使用灰度图？\n",
    "\n",
    "    1）简化处理，灰度图只包含亮度信息，计算量小，易于处理。对于一些基础任务如图像的边缘检测和轮廓分析，表现出更好的性能。\n",
    "\n",
    "    2）减小储存和传输成本，灰度图的每个像素只需要一个字节（8位）来表示亮度，相对于彩色图像的每个像素需要三个字节（24位），可以节省存储空间和传输带宽。\n",
    "\n",
    "    3）强调结构和纹理，灰度图可以更好地反映图像的结构和纹理特征，对于一些特定的图像处理任务，如医学影像胸片CT。"
   ]
  },
  {
   "cell_type": "markdown",
   "metadata": {},
   "source": [
    "色彩图：一种包含亮度和颜色信息的图像，通常用RGB（红绿蓝）或HSV（色相、饱和度、亮度）等颜色模型来表示每个像素的颜色和亮度。"
   ]
  },
  {
   "cell_type": "markdown",
   "metadata": {},
   "source": [
    "以下python代码完成彩色图转化为灰度图"
   ]
  },
  {
   "cell_type": "code",
   "execution_count": 5,
   "metadata": {},
   "outputs": [
    {
     "name": "stdout",
     "output_type": "stream",
     "text": [
      "彩色图片格式: RGBA\n",
      "灰度图片格式: L\n"
     ]
    }
   ],
   "source": [
    "from PIL import Image\n",
    "\n",
    "# 打开彩色图像\n",
    "color_image = Image.open(\"./learn-images/cat.png\")\n",
    "# 转换为灰度图, L 代表的是灰度图\n",
    "gray_image = color_image.convert(\"L\")\n",
    "# 保存灰度图\n",
    "gray_image.save(\"./learn-images/gray_cat.jpg\")\n",
    "\n",
    "# 打印图片格式\n",
    "print(\"彩色图片格式: \" + color_image.mode)\n",
    "print(\"灰度图片格式: \" + gray_image.mode)"
   ]
  },
  {
   "cell_type": "markdown",
   "metadata": {},
   "source": [
    "![彩色图](./learn-images/cat.png)"
   ]
  },
  {
   "cell_type": "markdown",
   "metadata": {},
   "source": [
    "![灰度图](./learn-images/gray_cat.jpg)"
   ]
  }
 ],
 "metadata": {
  "kernelspec": {
   "display_name": "Python 3",
   "language": "python",
   "name": "python3"
  },
  "language_info": {
   "codemirror_mode": {
    "name": "ipython",
    "version": 3
   },
   "file_extension": ".py",
   "mimetype": "text/x-python",
   "name": "python",
   "nbconvert_exporter": "python",
   "pygments_lexer": "ipython3",
   "version": "3.9.13"
  }
 },
 "nbformat": 4,
 "nbformat_minor": 2
}
