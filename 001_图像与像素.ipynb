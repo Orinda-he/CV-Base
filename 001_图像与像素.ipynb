{
 "cells": [
  {
   "cell_type": "markdown",
   "metadata": {},
   "source": [
    "1、计算机视觉任务中，图像（像素）是处理的对象。"
   ]
  },
  {
   "cell_type": "markdown",
   "metadata": {},
   "source": [
    "2、神经网络处理图片，处理的是像素之间的关系特征。"
   ]
  },
  {
   "cell_type": "markdown",
   "metadata": {},
   "source": [
    "人眼对于图像的识别，是建立在图像像素局部性特征之上，因此有时只看一张图片的局部，便可以区分这张图片是什么，甚至把图片上下倒置，也可以分辨出来。这是因为图像关键特征信息还在，没有丢失。如下图：\n",
    "![图片描述](https://static.xiaobot.net/file/2023-11-11/387413/f273453d1facac0a1cb4baf491b75198.png!post)\n"
   ]
  },
  {
   "cell_type": "markdown",
   "metadata": {},
   "source": []
  }
 ],
 "metadata": {
  "kernelspec": {
   "display_name": "Python 3",
   "language": "python",
   "name": "python3"
  },
  "language_info": {
   "codemirror_mode": {
    "name": "ipython",
    "version": 3
   },
   "file_extension": ".py",
   "mimetype": "text/x-python",
   "name": "python",
   "nbconvert_exporter": "python",
   "pygments_lexer": "ipython3",
   "version": "3.9.13"
  }
 },
 "nbformat": 4,
 "nbformat_minor": 2
}
