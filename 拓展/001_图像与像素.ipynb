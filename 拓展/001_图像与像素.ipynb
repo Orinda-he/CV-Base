{
 "cells": [
  {
   "cell_type": "markdown",
   "metadata": {},
   "source": [
    "1、计算机视觉任务中，图像（像素）是处理的对象。"
   ]
  },
  {
   "cell_type": "markdown",
   "metadata": {},
   "source": [
    "2、神经网络处理图片，处理的是像素之间的关系特征。"
   ]
  },
  {
   "cell_type": "markdown",
   "metadata": {},
   "source": [
    "人眼对于图像的识别，是建立在图像像素局部性特征之上，因此有时只看一张图片的局部，便可以区分这张图片是什么，甚至把图片上下倒置，也可以分辨出来。这是因为图像关键特征信息还在，没有丢失。"
   ]
  },
  {
   "cell_type": "markdown",
   "metadata": {},
   "source": [
    "关键特征如尖尖的嘴巴，标志性的笑脸，以及眼睛的大小，位置，颜色，形状等。图片经过剪裁或者旋转后，这些特征仍然可以被识别。基于这个原理，为了保持训练模型的鲁棒性，我们可以对图片进行随机的裁剪或者旋转等一些数据加强的操作。"
   ]
  },
  {
   "cell_type": "markdown",
   "metadata": {},
   "source": [
    "3、图像的局部细节和全局轮廓"
   ]
  },
  {
   "cell_type": "markdown",
   "metadata": {},
   "source": [
    "局部细节：比如图像的边缘、纹理、颜色等。"
   ]
  },
  {
   "cell_type": "markdown",
   "metadata": {},
   "source": [
    "全局结构：比如图像的轮廓、形状等。"
   ]
  },
  {
   "cell_type": "markdown",
   "metadata": {},
   "source": [
    "人眼看这两种特征是不一样的，看局部细节，类似于眯着眼看，此时瞳孔聚焦于某一处细节；看全局，类似于瞪眼看，此时瞳孔放大到整个物体，接收到更多像素。"
   ]
  },
  {
   "cell_type": "markdown",
   "metadata": {},
   "source": [
    "在计算机视觉中卷积可以近乎完美模拟人眼看图像的过程的一种算法。"
   ]
  }
 ],
 "metadata": {
  "kernelspec": {
   "display_name": "Python 3",
   "language": "python",
   "name": "python3"
  },
  "language_info": {
   "codemirror_mode": {
    "name": "ipython",
    "version": 3
   },
   "file_extension": ".py",
   "mimetype": "text/x-python",
   "name": "python",
   "nbconvert_exporter": "python",
   "pygments_lexer": "ipython3",
   "version": "3.9.13"
  }
 },
 "nbformat": 4,
 "nbformat_minor": 2
}
